{
 "cells": [
  {
   "cell_type": "code",
   "execution_count": 214,
   "id": "7a706299-2279-42f0-a878-86b978b03cce",
   "metadata": {},
   "outputs": [],
   "source": [
    "import mlflow\n",
    "import mlflow.sklearn\n",
    "import polars as pl\n",
    "from sklearn.ensemble import RandomForestClassifier\n",
    "from sklearn.model_selection import cross_val_score, train_test_split\n",
    "import pandas as pd\n",
    "from sklearn.metrics import mean_squared_error\n",
    "import numpy as np"
   ]
  },
  {
   "cell_type": "code",
   "execution_count": 215,
   "id": "c29a13c8-3834-4cc2-8233-37ab5050c23a",
   "metadata": {},
   "outputs": [
    {
     "data": {
      "text/plain": [
       "<Experiment: artifact_location='file:///home/temur/yyy/ml_flow_task/mlruns/941774096314097402', creation_time=1731320051489, experiment_id='941774096314097402', last_update_time=1731320051489, lifecycle_stage='active', name='movie-rating-classifier', tags={}>"
      ]
     },
     "execution_count": 215,
     "metadata": {},
     "output_type": "execute_result"
    }
   ],
   "source": [
    "mlflow.set_tracking_uri(\"http://127.0.0.1:5000\")\n",
    "mlflow.set_experiment('movie-rating-classifier')\n"
   ]
  },
  {
   "cell_type": "code",
   "execution_count": 216,
   "id": "0402a8db-04a7-494f-9394-ba99c43835bd",
   "metadata": {},
   "outputs": [
    {
     "data": {
      "text/html": [
       "<div><style>\n",
       ".dataframe > thead > tr,\n",
       ".dataframe > tbody > tr {\n",
       "  text-align: right;\n",
       "  white-space: pre-wrap;\n",
       "}\n",
       "</style>\n",
       "<small>shape: (5, 25)</small><table border=\"1\" class=\"dataframe\"><thead><tr><th>user_id</th><th>age</th><th>gender_F</th><th>gender_M</th><th>occupation_administrator</th><th>occupation_artist</th><th>occupation_doctor</th><th>occupation_educator</th><th>occupation_engineer</th><th>occupation_entertainment</th><th>occupation_executive</th><th>occupation_healthcare</th><th>occupation_homemaker</th><th>occupation_lawyer</th><th>occupation_librarian</th><th>occupation_marketing</th><th>occupation_none</th><th>occupation_other</th><th>occupation_programmer</th><th>occupation_retired</th><th>occupation_salesman</th><th>occupation_scientist</th><th>occupation_student</th><th>occupation_technician</th><th>occupation_writer</th></tr><tr><td>i64</td><td>i64</td><td>u8</td><td>u8</td><td>u8</td><td>u8</td><td>u8</td><td>u8</td><td>u8</td><td>u8</td><td>u8</td><td>u8</td><td>u8</td><td>u8</td><td>u8</td><td>u8</td><td>u8</td><td>u8</td><td>u8</td><td>u8</td><td>u8</td><td>u8</td><td>u8</td><td>u8</td><td>u8</td></tr></thead><tbody><tr><td>1</td><td>24</td><td>0</td><td>1</td><td>0</td><td>0</td><td>0</td><td>0</td><td>0</td><td>0</td><td>0</td><td>0</td><td>0</td><td>0</td><td>0</td><td>0</td><td>0</td><td>0</td><td>0</td><td>0</td><td>0</td><td>0</td><td>0</td><td>1</td><td>0</td></tr><tr><td>2</td><td>53</td><td>1</td><td>0</td><td>0</td><td>0</td><td>0</td><td>0</td><td>0</td><td>0</td><td>0</td><td>0</td><td>0</td><td>0</td><td>0</td><td>0</td><td>0</td><td>1</td><td>0</td><td>0</td><td>0</td><td>0</td><td>0</td><td>0</td><td>0</td></tr><tr><td>3</td><td>23</td><td>0</td><td>1</td><td>0</td><td>0</td><td>0</td><td>0</td><td>0</td><td>0</td><td>0</td><td>0</td><td>0</td><td>0</td><td>0</td><td>0</td><td>0</td><td>0</td><td>0</td><td>0</td><td>0</td><td>0</td><td>0</td><td>0</td><td>1</td></tr><tr><td>4</td><td>24</td><td>0</td><td>1</td><td>0</td><td>0</td><td>0</td><td>0</td><td>0</td><td>0</td><td>0</td><td>0</td><td>0</td><td>0</td><td>0</td><td>0</td><td>0</td><td>0</td><td>0</td><td>0</td><td>0</td><td>0</td><td>0</td><td>1</td><td>0</td></tr><tr><td>5</td><td>33</td><td>1</td><td>0</td><td>0</td><td>0</td><td>0</td><td>0</td><td>0</td><td>0</td><td>0</td><td>0</td><td>0</td><td>0</td><td>0</td><td>0</td><td>0</td><td>1</td><td>0</td><td>0</td><td>0</td><td>0</td><td>0</td><td>0</td><td>0</td></tr></tbody></table></div>"
      ],
      "text/plain": [
       "shape: (5, 25)\n",
       "┌─────────┬─────┬──────────┬──────────┬───┬──────────────┬─────────────┬─────────────┬─────────────┐\n",
       "│ user_id ┆ age ┆ gender_F ┆ gender_M ┆ … ┆ occupation_s ┆ occupation_ ┆ occupation_ ┆ occupation_ │\n",
       "│ ---     ┆ --- ┆ ---      ┆ ---      ┆   ┆ cientist     ┆ student     ┆ technician  ┆ writer      │\n",
       "│ i64     ┆ i64 ┆ u8       ┆ u8       ┆   ┆ ---          ┆ ---         ┆ ---         ┆ ---         │\n",
       "│         ┆     ┆          ┆          ┆   ┆ u8           ┆ u8          ┆ u8          ┆ u8          │\n",
       "╞═════════╪═════╪══════════╪══════════╪═══╪══════════════╪═════════════╪═════════════╪═════════════╡\n",
       "│ 1       ┆ 24  ┆ 0        ┆ 1        ┆ … ┆ 0            ┆ 0           ┆ 1           ┆ 0           │\n",
       "│ 2       ┆ 53  ┆ 1        ┆ 0        ┆ … ┆ 0            ┆ 0           ┆ 0           ┆ 0           │\n",
       "│ 3       ┆ 23  ┆ 0        ┆ 1        ┆ … ┆ 0            ┆ 0           ┆ 0           ┆ 1           │\n",
       "│ 4       ┆ 24  ┆ 0        ┆ 1        ┆ … ┆ 0            ┆ 0           ┆ 1           ┆ 0           │\n",
       "│ 5       ┆ 33  ┆ 1        ┆ 0        ┆ … ┆ 0            ┆ 0           ┆ 0           ┆ 0           │\n",
       "└─────────┴─────┴──────────┴──────────┴───┴──────────────┴─────────────┴─────────────┴─────────────┘"
      ]
     },
     "execution_count": 216,
     "metadata": {},
     "output_type": "execute_result"
    }
   ],
   "source": [
    "# Load and preprocess user data\n",
    "user_columns = ['user_id', 'age', 'gender', 'occupation', 'zip_code']\n",
    "users = pl.read_csv('ml-100k/u.user', has_header=False, separator='|', new_columns=user_columns)\n",
    "users = users.drop('zip_code')\n",
    "# Encode gender and occupation as dummies\n",
    "gender_dummies = users.select(pl.col(\"gender\")).to_dummies()\n",
    "occupation_dummies = users.select(pl.col(\"occupation\")).to_dummies()\n",
    "\n",
    "# Concatenate encoded features\n",
    "users_encoded = pl.concat([users.drop([\"gender\", \"occupation\"]), gender_dummies, occupation_dummies], how=\"horizontal\")\n",
    "users_encoded.head()"
   ]
  },
  {
   "cell_type": "code",
   "execution_count": 217,
   "id": "2f9c6992-2ac5-47cc-a02d-5cc68abd983b",
   "metadata": {},
   "outputs": [
    {
     "data": {
      "text/html": [
       "<div><style>\n",
       ".dataframe > thead > tr,\n",
       ".dataframe > tbody > tr {\n",
       "  text-align: right;\n",
       "  white-space: pre-wrap;\n",
       "}\n",
       "</style>\n",
       "<small>shape: (5, 20)</small><table border=\"1\" class=\"dataframe\"><thead><tr><th>item_id</th><th>genre_0</th><th>genre_1</th><th>genre_2</th><th>genre_3</th><th>genre_4</th><th>genre_5</th><th>genre_6</th><th>genre_7</th><th>genre_8</th><th>genre_9</th><th>genre_10</th><th>genre_11</th><th>genre_12</th><th>genre_13</th><th>genre_14</th><th>genre_15</th><th>genre_16</th><th>genre_17</th><th>genre_18</th></tr><tr><td>i64</td><td>i64</td><td>i64</td><td>i64</td><td>i64</td><td>i64</td><td>i64</td><td>i64</td><td>i64</td><td>i64</td><td>i64</td><td>i64</td><td>i64</td><td>i64</td><td>i64</td><td>i64</td><td>i64</td><td>i64</td><td>i64</td><td>i64</td></tr></thead><tbody><tr><td>1</td><td>0</td><td>0</td><td>0</td><td>1</td><td>1</td><td>1</td><td>0</td><td>0</td><td>0</td><td>0</td><td>0</td><td>0</td><td>0</td><td>0</td><td>0</td><td>0</td><td>0</td><td>0</td><td>0</td></tr><tr><td>2</td><td>0</td><td>1</td><td>1</td><td>0</td><td>0</td><td>0</td><td>0</td><td>0</td><td>0</td><td>0</td><td>0</td><td>0</td><td>0</td><td>0</td><td>0</td><td>0</td><td>1</td><td>0</td><td>0</td></tr><tr><td>3</td><td>0</td><td>0</td><td>0</td><td>0</td><td>0</td><td>0</td><td>0</td><td>0</td><td>0</td><td>0</td><td>0</td><td>0</td><td>0</td><td>0</td><td>0</td><td>0</td><td>1</td><td>0</td><td>0</td></tr><tr><td>4</td><td>0</td><td>1</td><td>0</td><td>0</td><td>0</td><td>1</td><td>0</td><td>0</td><td>1</td><td>0</td><td>0</td><td>0</td><td>0</td><td>0</td><td>0</td><td>0</td><td>0</td><td>0</td><td>0</td></tr><tr><td>5</td><td>0</td><td>0</td><td>0</td><td>0</td><td>0</td><td>0</td><td>1</td><td>0</td><td>1</td><td>0</td><td>0</td><td>0</td><td>0</td><td>0</td><td>0</td><td>0</td><td>1</td><td>0</td><td>0</td></tr></tbody></table></div>"
      ],
      "text/plain": [
       "shape: (5, 20)\n",
       "┌─────────┬─────────┬─────────┬─────────┬───┬──────────┬──────────┬──────────┬──────────┐\n",
       "│ item_id ┆ genre_0 ┆ genre_1 ┆ genre_2 ┆ … ┆ genre_15 ┆ genre_16 ┆ genre_17 ┆ genre_18 │\n",
       "│ ---     ┆ ---     ┆ ---     ┆ ---     ┆   ┆ ---      ┆ ---      ┆ ---      ┆ ---      │\n",
       "│ i64     ┆ i64     ┆ i64     ┆ i64     ┆   ┆ i64      ┆ i64      ┆ i64      ┆ i64      │\n",
       "╞═════════╪═════════╪═════════╪═════════╪═══╪══════════╪══════════╪══════════╪══════════╡\n",
       "│ 1       ┆ 0       ┆ 0       ┆ 0       ┆ … ┆ 0        ┆ 0        ┆ 0        ┆ 0        │\n",
       "│ 2       ┆ 0       ┆ 1       ┆ 1       ┆ … ┆ 0        ┆ 1        ┆ 0        ┆ 0        │\n",
       "│ 3       ┆ 0       ┆ 0       ┆ 0       ┆ … ┆ 0        ┆ 1        ┆ 0        ┆ 0        │\n",
       "│ 4       ┆ 0       ┆ 1       ┆ 0       ┆ … ┆ 0        ┆ 0        ┆ 0        ┆ 0        │\n",
       "│ 5       ┆ 0       ┆ 0       ┆ 0       ┆ … ┆ 0        ┆ 1        ┆ 0        ┆ 0        │\n",
       "└─────────┴─────────┴─────────┴─────────┴───┴──────────┴──────────┴──────────┴──────────┘"
      ]
     },
     "execution_count": 217,
     "metadata": {},
     "output_type": "execute_result"
    }
   ],
   "source": [
    "# Load and preprocess movie data\n",
    "movie_columns = [\"item_id\", \"movie_title\", \"release_date\", \"video_release_date\", \"IMDb_URL\"] + [f\"genre_{i}\" for i in range(19)]\n",
    "movies = pl.read_csv('ml-100k/u.item', separator=\"|\", has_header=False, new_columns=movie_columns, encoding=\"iso-8859-1\", ignore_errors=True)\n",
    "movies = movies.drop('IMDb_URL', 'movie_title', 'release_date', 'video_release_date')\n",
    "movies.head()"
   ]
  },
  {
   "cell_type": "code",
   "execution_count": 218,
   "id": "e09f0512-be3a-42fc-ac7a-3d7410f2e552",
   "metadata": {},
   "outputs": [
    {
     "data": {
      "text/html": [
       "<div><style>\n",
       ".dataframe > thead > tr,\n",
       ".dataframe > tbody > tr {\n",
       "  text-align: right;\n",
       "  white-space: pre-wrap;\n",
       "}\n",
       "</style>\n",
       "<small>shape: (5, 4)</small><table border=\"1\" class=\"dataframe\"><thead><tr><th>user_id</th><th>item_id</th><th>rating</th><th>timestamp</th></tr><tr><td>i64</td><td>i64</td><td>i64</td><td>i64</td></tr></thead><tbody><tr><td>196</td><td>242</td><td>3</td><td>881250949</td></tr><tr><td>186</td><td>302</td><td>3</td><td>891717742</td></tr><tr><td>22</td><td>377</td><td>1</td><td>878887116</td></tr><tr><td>244</td><td>51</td><td>2</td><td>880606923</td></tr><tr><td>166</td><td>346</td><td>1</td><td>886397596</td></tr></tbody></table></div>"
      ],
      "text/plain": [
       "shape: (5, 4)\n",
       "┌─────────┬─────────┬────────┬───────────┐\n",
       "│ user_id ┆ item_id ┆ rating ┆ timestamp │\n",
       "│ ---     ┆ ---     ┆ ---    ┆ ---       │\n",
       "│ i64     ┆ i64     ┆ i64    ┆ i64       │\n",
       "╞═════════╪═════════╪════════╪═══════════╡\n",
       "│ 196     ┆ 242     ┆ 3      ┆ 881250949 │\n",
       "│ 186     ┆ 302     ┆ 3      ┆ 891717742 │\n",
       "│ 22      ┆ 377     ┆ 1      ┆ 878887116 │\n",
       "│ 244     ┆ 51      ┆ 2      ┆ 880606923 │\n",
       "│ 166     ┆ 346     ┆ 1      ┆ 886397596 │\n",
       "└─────────┴─────────┴────────┴───────────┘"
      ]
     },
     "execution_count": 218,
     "metadata": {},
     "output_type": "execute_result"
    }
   ],
   "source": [
    "\n",
    "# Load ratings data\n",
    "ratings = pl.read_csv('ml-100k/u.data', separator='\\t', has_header=False, new_columns=['user_id', 'item_id', 'rating', 'timestamp'])\n",
    "ratings.head()\n"
   ]
  },
  {
   "cell_type": "code",
   "execution_count": 230,
   "id": "7bb6d571-ed09-4bb8-909e-4b9ca5a186f9",
   "metadata": {},
   "outputs": [
    {
     "data": {
      "text/html": [
       "<div><style>\n",
       ".dataframe > thead > tr,\n",
       ".dataframe > tbody > tr {\n",
       "  text-align: right;\n",
       "  white-space: pre-wrap;\n",
       "}\n",
       "</style>\n",
       "<small>shape: (5, 47)</small><table border=\"1\" class=\"dataframe\"><thead><tr><th>user_id</th><th>age</th><th>gender_F</th><th>gender_M</th><th>occupation_administrator</th><th>occupation_artist</th><th>occupation_doctor</th><th>occupation_educator</th><th>occupation_engineer</th><th>occupation_entertainment</th><th>occupation_executive</th><th>occupation_healthcare</th><th>occupation_homemaker</th><th>occupation_lawyer</th><th>occupation_librarian</th><th>occupation_marketing</th><th>occupation_none</th><th>occupation_other</th><th>occupation_programmer</th><th>occupation_retired</th><th>occupation_salesman</th><th>occupation_scientist</th><th>occupation_student</th><th>occupation_technician</th><th>occupation_writer</th><th>item_id</th><th>rating</th><th>timestamp</th><th>genre_0</th><th>genre_1</th><th>genre_2</th><th>genre_3</th><th>genre_4</th><th>genre_5</th><th>genre_6</th><th>genre_7</th><th>genre_8</th><th>genre_9</th><th>genre_10</th><th>genre_11</th><th>genre_12</th><th>genre_13</th><th>genre_14</th><th>genre_15</th><th>genre_16</th><th>genre_17</th><th>genre_18</th></tr><tr><td>i64</td><td>i64</td><td>u8</td><td>u8</td><td>u8</td><td>u8</td><td>u8</td><td>u8</td><td>u8</td><td>u8</td><td>u8</td><td>u8</td><td>u8</td><td>u8</td><td>u8</td><td>u8</td><td>u8</td><td>u8</td><td>u8</td><td>u8</td><td>u8</td><td>u8</td><td>u8</td><td>u8</td><td>u8</td><td>i64</td><td>i64</td><td>i64</td><td>i64</td><td>i64</td><td>i64</td><td>i64</td><td>i64</td><td>i64</td><td>i64</td><td>i64</td><td>i64</td><td>i64</td><td>i64</td><td>i64</td><td>i64</td><td>i64</td><td>i64</td><td>i64</td><td>i64</td><td>i64</td><td>i64</td></tr></thead><tbody><tr><td>943</td><td>22</td><td>0</td><td>1</td><td>0</td><td>0</td><td>0</td><td>0</td><td>0</td><td>0</td><td>0</td><td>0</td><td>0</td><td>0</td><td>0</td><td>0</td><td>0</td><td>0</td><td>0</td><td>0</td><td>0</td><td>0</td><td>1</td><td>0</td><td>0</td><td>415</td><td>1</td><td>888640027</td><td>0</td><td>0</td><td>0</td><td>0</td><td>1</td><td>1</td><td>0</td><td>0</td><td>0</td><td>0</td><td>0</td><td>0</td><td>0</td><td>0</td><td>0</td><td>0</td><td>0</td><td>0</td><td>1</td></tr><tr><td>943</td><td>22</td><td>0</td><td>1</td><td>0</td><td>0</td><td>0</td><td>0</td><td>0</td><td>0</td><td>0</td><td>0</td><td>0</td><td>0</td><td>0</td><td>0</td><td>0</td><td>0</td><td>0</td><td>0</td><td>0</td><td>0</td><td>1</td><td>0</td><td>0</td><td>219</td><td>4</td><td>888639575</td><td>0</td><td>0</td><td>0</td><td>0</td><td>0</td><td>0</td><td>0</td><td>0</td><td>0</td><td>0</td><td>0</td><td>1</td><td>0</td><td>0</td><td>0</td><td>0</td><td>0</td><td>0</td><td>0</td></tr><tr><td>943</td><td>22</td><td>0</td><td>1</td><td>0</td><td>0</td><td>0</td><td>0</td><td>0</td><td>0</td><td>0</td><td>0</td><td>0</td><td>0</td><td>0</td><td>0</td><td>0</td><td>0</td><td>0</td><td>0</td><td>0</td><td>0</td><td>1</td><td>0</td><td>0</td><td>796</td><td>3</td><td>888640311</td><td>0</td><td>0</td><td>0</td><td>0</td><td>0</td><td>1</td><td>0</td><td>0</td><td>0</td><td>0</td><td>0</td><td>0</td><td>0</td><td>0</td><td>1</td><td>0</td><td>0</td><td>0</td><td>0</td></tr><tr><td>943</td><td>22</td><td>0</td><td>1</td><td>0</td><td>0</td><td>0</td><td>0</td><td>0</td><td>0</td><td>0</td><td>0</td><td>0</td><td>0</td><td>0</td><td>0</td><td>0</td><td>0</td><td>0</td><td>0</td><td>0</td><td>0</td><td>1</td><td>0</td><td>0</td><td>739</td><td>4</td><td>888639929</td><td>0</td><td>0</td><td>0</td><td>0</td><td>0</td><td>1</td><td>0</td><td>0</td><td>0</td><td>0</td><td>0</td><td>0</td><td>0</td><td>0</td><td>1</td><td>0</td><td>0</td><td>0</td><td>0</td></tr><tr><td>943</td><td>22</td><td>0</td><td>1</td><td>0</td><td>0</td><td>0</td><td>0</td><td>0</td><td>0</td><td>0</td><td>0</td><td>0</td><td>0</td><td>0</td><td>0</td><td>0</td><td>0</td><td>0</td><td>0</td><td>0</td><td>0</td><td>1</td><td>0</td><td>0</td><td>391</td><td>2</td><td>888640291</td><td>0</td><td>1</td><td>0</td><td>0</td><td>0</td><td>1</td><td>0</td><td>0</td><td>0</td><td>0</td><td>0</td><td>0</td><td>0</td><td>0</td><td>0</td><td>0</td><td>0</td><td>0</td><td>0</td></tr></tbody></table></div>"
      ],
      "text/plain": [
       "shape: (5, 47)\n",
       "┌─────────┬─────┬──────────┬──────────┬───┬──────────┬──────────┬──────────┬──────────┐\n",
       "│ user_id ┆ age ┆ gender_F ┆ gender_M ┆ … ┆ genre_15 ┆ genre_16 ┆ genre_17 ┆ genre_18 │\n",
       "│ ---     ┆ --- ┆ ---      ┆ ---      ┆   ┆ ---      ┆ ---      ┆ ---      ┆ ---      │\n",
       "│ i64     ┆ i64 ┆ u8       ┆ u8       ┆   ┆ i64      ┆ i64      ┆ i64      ┆ i64      │\n",
       "╞═════════╪═════╪══════════╪══════════╪═══╪══════════╪══════════╪══════════╪══════════╡\n",
       "│ 943     ┆ 22  ┆ 0        ┆ 1        ┆ … ┆ 0        ┆ 0        ┆ 0        ┆ 1        │\n",
       "│ 943     ┆ 22  ┆ 0        ┆ 1        ┆ … ┆ 0        ┆ 0        ┆ 0        ┆ 0        │\n",
       "│ 943     ┆ 22  ┆ 0        ┆ 1        ┆ … ┆ 0        ┆ 0        ┆ 0        ┆ 0        │\n",
       "│ 943     ┆ 22  ┆ 0        ┆ 1        ┆ … ┆ 0        ┆ 0        ┆ 0        ┆ 0        │\n",
       "│ 943     ┆ 22  ┆ 0        ┆ 1        ┆ … ┆ 0        ┆ 0        ┆ 0        ┆ 0        │\n",
       "└─────────┴─────┴──────────┴──────────┴───┴──────────┴──────────┴──────────┴──────────┘"
      ]
     },
     "execution_count": 230,
     "metadata": {},
     "output_type": "execute_result"
    }
   ],
   "source": [
    "# Join data\n",
    "users_ratings = users_encoded.join(ratings, on=\"user_id\", how=\"left\")\n",
    "combined_data = users_ratings.join(movies, on=\"item_id\", how=\"left\")\n",
    "combined_data.tail()"
   ]
  },
  {
   "cell_type": "code",
   "execution_count": 220,
   "id": "945c0d79-3cb2-4130-8226-2a26822cf5f8",
   "metadata": {},
   "outputs": [],
   "source": [
    "# Age categorization\n",
    "def categorize_age(age):\n",
    "    if age <= 20:\n",
    "        return \"age1\"\n",
    "    elif 20<age<=35:\n",
    "        return \"age2\"\n",
    "    elif 35<age<=50:\n",
    "        return \"age3\"\n",
    "    elif 50<age<=60:\n",
    "        return \"age3\"\n",
    "    else:\n",
    "        return \"age4\""
   ]
  },
  {
   "cell_type": "code",
   "execution_count": 221,
   "id": "b97986f7-0b2b-48de-b96a-0e183ebaa0fb",
   "metadata": {},
   "outputs": [
    {
     "data": {
      "text/html": [
       "<div>\n",
       "<style scoped>\n",
       "    .dataframe tbody tr th:only-of-type {\n",
       "        vertical-align: middle;\n",
       "    }\n",
       "\n",
       "    .dataframe tbody tr th {\n",
       "        vertical-align: top;\n",
       "    }\n",
       "\n",
       "    .dataframe thead th {\n",
       "        text-align: right;\n",
       "    }\n",
       "</style>\n",
       "<table border=\"1\" class=\"dataframe\">\n",
       "  <thead>\n",
       "    <tr style=\"text-align: right;\">\n",
       "      <th></th>\n",
       "      <th>gender_F</th>\n",
       "      <th>gender_M</th>\n",
       "      <th>occupation_administrator</th>\n",
       "      <th>occupation_artist</th>\n",
       "      <th>occupation_doctor</th>\n",
       "      <th>occupation_educator</th>\n",
       "      <th>occupation_engineer</th>\n",
       "      <th>occupation_entertainment</th>\n",
       "      <th>occupation_executive</th>\n",
       "      <th>occupation_healthcare</th>\n",
       "      <th>...</th>\n",
       "      <th>genre_13</th>\n",
       "      <th>genre_14</th>\n",
       "      <th>genre_15</th>\n",
       "      <th>genre_16</th>\n",
       "      <th>genre_17</th>\n",
       "      <th>genre_18</th>\n",
       "      <th>age_age1</th>\n",
       "      <th>age_age2</th>\n",
       "      <th>age_age3</th>\n",
       "      <th>age_age4</th>\n",
       "    </tr>\n",
       "  </thead>\n",
       "  <tbody>\n",
       "    <tr>\n",
       "      <th>0</th>\n",
       "      <td>0</td>\n",
       "      <td>1</td>\n",
       "      <td>0</td>\n",
       "      <td>0</td>\n",
       "      <td>0</td>\n",
       "      <td>0</td>\n",
       "      <td>0</td>\n",
       "      <td>0</td>\n",
       "      <td>0</td>\n",
       "      <td>0</td>\n",
       "      <td>...</td>\n",
       "      <td>0</td>\n",
       "      <td>0</td>\n",
       "      <td>0</td>\n",
       "      <td>0</td>\n",
       "      <td>0</td>\n",
       "      <td>0</td>\n",
       "      <td>False</td>\n",
       "      <td>True</td>\n",
       "      <td>False</td>\n",
       "      <td>False</td>\n",
       "    </tr>\n",
       "    <tr>\n",
       "      <th>1</th>\n",
       "      <td>0</td>\n",
       "      <td>1</td>\n",
       "      <td>0</td>\n",
       "      <td>0</td>\n",
       "      <td>0</td>\n",
       "      <td>0</td>\n",
       "      <td>0</td>\n",
       "      <td>0</td>\n",
       "      <td>0</td>\n",
       "      <td>0</td>\n",
       "      <td>...</td>\n",
       "      <td>0</td>\n",
       "      <td>0</td>\n",
       "      <td>0</td>\n",
       "      <td>0</td>\n",
       "      <td>0</td>\n",
       "      <td>0</td>\n",
       "      <td>False</td>\n",
       "      <td>True</td>\n",
       "      <td>False</td>\n",
       "      <td>False</td>\n",
       "    </tr>\n",
       "    <tr>\n",
       "      <th>2</th>\n",
       "      <td>0</td>\n",
       "      <td>1</td>\n",
       "      <td>0</td>\n",
       "      <td>0</td>\n",
       "      <td>0</td>\n",
       "      <td>0</td>\n",
       "      <td>0</td>\n",
       "      <td>0</td>\n",
       "      <td>0</td>\n",
       "      <td>0</td>\n",
       "      <td>...</td>\n",
       "      <td>0</td>\n",
       "      <td>1</td>\n",
       "      <td>0</td>\n",
       "      <td>1</td>\n",
       "      <td>0</td>\n",
       "      <td>0</td>\n",
       "      <td>False</td>\n",
       "      <td>True</td>\n",
       "      <td>False</td>\n",
       "      <td>False</td>\n",
       "    </tr>\n",
       "    <tr>\n",
       "      <th>3</th>\n",
       "      <td>0</td>\n",
       "      <td>1</td>\n",
       "      <td>0</td>\n",
       "      <td>0</td>\n",
       "      <td>0</td>\n",
       "      <td>0</td>\n",
       "      <td>0</td>\n",
       "      <td>0</td>\n",
       "      <td>0</td>\n",
       "      <td>0</td>\n",
       "      <td>...</td>\n",
       "      <td>0</td>\n",
       "      <td>0</td>\n",
       "      <td>0</td>\n",
       "      <td>0</td>\n",
       "      <td>0</td>\n",
       "      <td>0</td>\n",
       "      <td>False</td>\n",
       "      <td>True</td>\n",
       "      <td>False</td>\n",
       "      <td>False</td>\n",
       "    </tr>\n",
       "    <tr>\n",
       "      <th>4</th>\n",
       "      <td>0</td>\n",
       "      <td>1</td>\n",
       "      <td>0</td>\n",
       "      <td>0</td>\n",
       "      <td>0</td>\n",
       "      <td>0</td>\n",
       "      <td>0</td>\n",
       "      <td>0</td>\n",
       "      <td>0</td>\n",
       "      <td>0</td>\n",
       "      <td>...</td>\n",
       "      <td>0</td>\n",
       "      <td>1</td>\n",
       "      <td>0</td>\n",
       "      <td>0</td>\n",
       "      <td>0</td>\n",
       "      <td>0</td>\n",
       "      <td>False</td>\n",
       "      <td>True</td>\n",
       "      <td>False</td>\n",
       "      <td>False</td>\n",
       "    </tr>\n",
       "  </tbody>\n",
       "</table>\n",
       "<p>5 rows × 46 columns</p>\n",
       "</div>"
      ],
      "text/plain": [
       "   gender_F  gender_M  occupation_administrator  occupation_artist  \\\n",
       "0         0         1                         0                  0   \n",
       "1         0         1                         0                  0   \n",
       "2         0         1                         0                  0   \n",
       "3         0         1                         0                  0   \n",
       "4         0         1                         0                  0   \n",
       "\n",
       "   occupation_doctor  occupation_educator  occupation_engineer  \\\n",
       "0                  0                    0                    0   \n",
       "1                  0                    0                    0   \n",
       "2                  0                    0                    0   \n",
       "3                  0                    0                    0   \n",
       "4                  0                    0                    0   \n",
       "\n",
       "   occupation_entertainment  occupation_executive  occupation_healthcare  ...  \\\n",
       "0                         0                     0                      0  ...   \n",
       "1                         0                     0                      0  ...   \n",
       "2                         0                     0                      0  ...   \n",
       "3                         0                     0                      0  ...   \n",
       "4                         0                     0                      0  ...   \n",
       "\n",
       "   genre_13  genre_14  genre_15  genre_16  genre_17  genre_18  age_age1  \\\n",
       "0         0         0         0         0         0         0     False   \n",
       "1         0         0         0         0         0         0     False   \n",
       "2         0         1         0         1         0         0     False   \n",
       "3         0         0         0         0         0         0     False   \n",
       "4         0         1         0         0         0         0     False   \n",
       "\n",
       "   age_age2  age_age3  age_age4  \n",
       "0      True     False     False  \n",
       "1      True     False     False  \n",
       "2      True     False     False  \n",
       "3      True     False     False  \n",
       "4      True     False     False  \n",
       "\n",
       "[5 rows x 46 columns]"
      ]
     },
     "execution_count": 221,
     "metadata": {},
     "output_type": "execute_result"
    }
   ],
   "source": [
    "\n",
    "# Prepare data for training\n",
    "X = combined_data.select(pl.all().exclude(['rating', 'timestamp', 'user_id', 'item_id'])).to_pandas()\n",
    "y = combined_data.select(['rating'])\n",
    "\n",
    "X['age_category']=X['age'].apply(categorize_age)\n",
    "X = X.drop(columns=['age'])\n",
    "\n",
    "dummies = pd.get_dummies(X['age_category'], prefix='age')\n",
    "\n",
    "# Join the dummies back to the original DataFrame\n",
    "X = pd.concat([X, dummies], axis=1)\n",
    "\n",
    "# Drop the original 'age_category' column if not needed\n",
    "X = X.drop(columns=['age_category'])\n",
    "X.head()"
   ]
  },
  {
   "cell_type": "code",
   "execution_count": 222,
   "id": "12ff6882-12d9-4929-8b1b-430edb5e4fa3",
   "metadata": {},
   "outputs": [],
   "source": [
    "X_train, X_test, y_train, y_test = train_test_split(X, y, test_size=0.2, random_state=42, shuffle=True)  \n",
    "random_state=42 "
   ]
  },
  {
   "cell_type": "code",
   "execution_count": 227,
   "id": "fac3fc2e-b470-485d-844a-19e1e9aa2ef3",
   "metadata": {},
   "outputs": [
    {
     "name": "stderr",
     "output_type": "stream",
     "text": [
      "/home/temur/anaconda3/envs/ml_env/lib/python3.12/site-packages/sklearn/base.py:1473: DataConversionWarning: A column-vector y was passed when a 1d array was expected. Please change the shape of y to (n_samples,), for example using ravel().\n",
      "  return fit_method(estimator, *args, **kwargs)\n",
      "2024/11/11 16:50:59 WARNING mlflow.models.model: Model logged without a signature and input example. Please set `input_example` parameter when logging the model to auto infer the model signature.\n",
      "2024/11/11 16:50:59 INFO mlflow.tracking._tracking_service.client: 🏃 View run rumbling-wren-712 at: http://127.0.0.1:5000/#/experiments/941774096314097402/runs/59a56311591644fab7a020254afb3745.\n",
      "2024/11/11 16:50:59 INFO mlflow.tracking._tracking_service.client: 🧪 View experiment at: http://127.0.0.1:5000/#/experiments/941774096314097402.\n"
     ]
    }
   ],
   "source": [
    "# I would use grid search, but to work with mlflow I am writing such code\n",
    "with mlflow.start_run():\n",
    "    estimators=100\n",
    "    max_depth=10\n",
    "    mlflow.log_param(\"model_type\", \"RandomForestClassifier\")\n",
    "    mlflow.log_param(\"n_estimators\", estimators)\n",
    "    mlflow.log_param(\"max depth\", max_depth)\n",
    "    model = RandomForestClassifier(n_estimators=estimators,max_depth=max_depth,random_state=random_state)  \n",
    "    model.fit(X_train,y_train)\n",
    "    mlflow.sklearn.log_model(model, \"random_forest_model\")\n",
    "    y_test_pred = model.predict(X_test)    \n",
    "    rmse = np.sqrt(mean_squared_error(y_test, y_test_pred))\n",
    "    mlflow.log_metric(\"rmse\", rmse)"
   ]
  },
  {
   "cell_type": "code",
   "execution_count": 228,
   "id": "cba54183-5a19-4044-823a-ec0913329afd",
   "metadata": {},
   "outputs": [],
   "source": [
    "import mlflow.sklearn\n",
    "\n",
    "model_uri = \"models:/with_least_rmse/3\"  \n",
    "model = mlflow.sklearn.load_model(model_uri)"
   ]
  },
  {
   "cell_type": "code",
   "execution_count": 229,
   "id": "760fbf95-66e8-410d-9e96-cef41e20971f",
   "metadata": {},
   "outputs": [],
   "source": [
    "import skl2onnx\n",
    "import onnx\n",
    "from skl2onnx import convert_sklearn\n",
    "from skl2onnx.common.data_types import FloatTensorType\n",
    "\n",
    "onnx_model = convert_sklearn(model, initial_types=[('input', FloatTensorType([None, X_train.shape[1]]))])\n",
    "\n",
    "onnx.save_model(onnx_model, 'app/with_least_rmse.onnx')\n"
   ]
  },
  {
   "cell_type": "code",
   "execution_count": null,
   "id": "b5165fcf-e68d-4761-90aa-519d166c8a36",
   "metadata": {},
   "outputs": [],
   "source": []
  }
 ],
 "metadata": {
  "kernelspec": {
   "display_name": "Python 3 (ipykernel)",
   "language": "python",
   "name": "python3"
  },
  "language_info": {
   "codemirror_mode": {
    "name": "ipython",
    "version": 3
   },
   "file_extension": ".py",
   "mimetype": "text/x-python",
   "name": "python",
   "nbconvert_exporter": "python",
   "pygments_lexer": "ipython3",
   "version": "3.12.7"
  }
 },
 "nbformat": 4,
 "nbformat_minor": 5
}
